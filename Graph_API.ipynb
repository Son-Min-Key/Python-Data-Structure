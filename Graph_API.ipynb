{
 "cells": [
  {
   "cell_type": "code",
   "execution_count": 1,
   "id": "673f4398-ca8f-44f3-968e-ebb6085f01b7",
   "metadata": {},
   "outputs": [],
   "source": [
    "#371\n",
    "graph = {'A' : {'B','C'},\n",
    "           'B' : {'A','D'},\n",
    "           'C' : {'A','D','E'},\n",
    "           'D' : {'B','C','F'},\n",
    "           'E' : {'C','G','H'},\n",
    "           'F' : {'D'},\n",
    "           'G' : {'E','H'},\n",
    "           'H' : {'E','G'}}\n",
    "           \n",
    "           "
   ]
  },
  {
   "cell_type": "code",
   "execution_count": 2,
   "id": "75ed0860-8818-4011-973c-c0b42d570137",
   "metadata": {},
   "outputs": [
    {
     "name": "stdout",
     "output_type": "stream",
     "text": [
      "D\n",
      "A\n",
      "E\n"
     ]
    }
   ],
   "source": [
    "for v in graph['C']:\n",
    "    print(v)"
   ]
  },
  {
   "cell_type": "code",
   "execution_count": 5,
   "id": "b90db96b-e53f-4fcb-95ed-5dadccf1b7dd",
   "metadata": {},
   "outputs": [],
   "source": [
    "def dfs(graph,start,visited=set()):\n",
    "    if start not in visited:\n",
    "        visited.add(start)\n",
    "        print(start,end=' ')\n",
    "        nbr = graph[start]-visited\n",
    "        if len(nbr) > 0:\n",
    "            nbr = sorted(list(nbr))\n",
    "        for v in nbr:\n",
    "            dfs(graph,v,visited)\n",
    "    "
   ]
  },
  {
   "cell_type": "code",
   "execution_count": 6,
   "id": "49e74f60-ba9b-4cc9-9d6e-9193b11f2908",
   "metadata": {},
   "outputs": [
    {
     "name": "stdout",
     "output_type": "stream",
     "text": [
      "A B D C E G H F "
     ]
    }
   ],
   "source": [
    "dfs(graph,'A')"
   ]
  },
  {
   "cell_type": "code",
   "execution_count": 7,
   "id": "941d8aa8-21f7-4b8d-a5ba-c03e17063b65",
   "metadata": {},
   "outputs": [],
   "source": [
    "import collections as col\n",
    "\n",
    "def bfs(graph,start):\n",
    "    visited = set([start])\n",
    "    queue = col.deque([start])\n",
    "    while queue:\n",
    "        vertex = queue.popleft()\n",
    "        print(vertex,end=' ')\n",
    "        nbr = graph[vertex]-visited\n",
    "        for v in nbr:\n",
    "            visited.add(v)\n",
    "            queue.append(v)"
   ]
  },
  {
   "cell_type": "code",
   "execution_count": 8,
   "id": "7a6f756f-e0a3-4f38-bc6b-610f9d03acd5",
   "metadata": {},
   "outputs": [
    {
     "name": "stdout",
     "output_type": "stream",
     "text": [
      "A B C D E F G H "
     ]
    }
   ],
   "source": [
    "bfs(graph,'A')"
   ]
  },
  {
   "cell_type": "code",
   "execution_count": 9,
   "id": "9074780d-f4ce-4971-ae11-245b3132936d",
   "metadata": {},
   "outputs": [],
   "source": [
    "#연결 성분 검사(깊이우선탐색)\n",
    "\n",
    "def find_connected_component(graph):\n",
    "    visited=set() #방문 부분집합\n",
    "    colorList=[] #부분 그래프별 정점 리스트\n",
    "    \n",
    "    for vtx in graph:\n",
    "        if vtx not in visited:\n",
    "            color = dfs_cc(graph,[],vtx,visited)\n",
    "            colorList.append(color)\n",
    "    print(len(colorList))\n",
    "    print(colorList)\n",
    "\n",
    "def dfs_cc(graph,color,vertex,visited):\n",
    "    if vertex not in visited:\n",
    "        visited.add(vertex)\n",
    "        color.append(vertex)\n",
    "        nbr = graph[vertex] - visited\n",
    "        for v in nbr:\n",
    "            dfs_cc(graph,color,v,visited)\n",
    "    return color"
   ]
  },
  {
   "cell_type": "code",
   "execution_count": 1,
   "id": "10d38fc3-7a87-4e8b-a71a-000bf73700ae",
   "metadata": {},
   "outputs": [],
   "source": [
    "#신장트리 : 모든 정점을 포함(너비우선탐색)\n",
    "def bfsST(graph, start):\n",
    "    visited = set([start])\n",
    "    queue = collections.deque([start])\n",
    "    while queue:\n",
    "        v = queue.popleft()\n",
    "        nbr = graph[v] - visited\n",
    "        for u in nbr:\n",
    "            print(f'{v},{u},)',end='')\n",
    "            visited.add(u)\n",
    "            queue.append(u)"
   ]
  },
  {
   "cell_type": "code",
   "execution_count": 2,
   "id": "bdf87c67-58a0-45a4-b191-cac9ee0013d5",
   "metadata": {},
   "outputs": [],
   "source": [
    "#위상 정렬 알고리즘\n",
    "#진입차수가 0이 되지 않으면 갈 수 없음\n",
    "\n",
    "def topological_sort_AM(vertex,graph):\n",
    "    n = len(vertex)\n",
    "    inDeg = [0] * n\n",
    "    \n",
    "    for i in range(n):\n",
    "        for j in range(n):\n",
    "            if graph[i][j] > 0:\n",
    "                inDeg[j] += 1"
   ]
  },
  {
   "cell_type": "code",
   "execution_count": null,
   "id": "4ea1ee8d-2bab-40a7-b24b-86ec47e3e4d8",
   "metadata": {},
   "outputs": [],
   "source": []
  }
 ],
 "metadata": {
  "kernelspec": {
   "display_name": "Python 3 (ipykernel)",
   "language": "python",
   "name": "python3"
  },
  "language_info": {
   "codemirror_mode": {
    "name": "ipython",
    "version": 3
   },
   "file_extension": ".py",
   "mimetype": "text/x-python",
   "name": "python",
   "nbconvert_exporter": "python",
   "pygments_lexer": "ipython3",
   "version": "3.9.12"
  }
 },
 "nbformat": 4,
 "nbformat_minor": 5
}
