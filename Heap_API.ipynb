{
 "cells": [
  {
   "cell_type": "code",
   "execution_count": 2,
   "id": "2d9e2270-c708-4723-9d05-206e2cc43159",
   "metadata": {},
   "outputs": [],
   "source": [
    "class TNode:\n",
    "    def __init__(self,data,left,right):\n",
    "        self.data = data\n",
    "        self.left = left\n",
    "        self.right = right"
   ]
  },
  {
   "cell_type": "code",
   "execution_count": 3,
   "id": "8a2333d7-c21e-4aa9-ba45-27b4ae0c5db2",
   "metadata": {},
   "outputs": [],
   "source": [
    "#전위 순회 노드->왼->오\n",
    "def preorder(n):\n",
    "    if n is not None:\n",
    "        print(n.data,end=' ')\n",
    "        preorder(n.left)\n",
    "        preorder(n.right)"
   ]
  },
  {
   "cell_type": "code",
   "execution_count": 4,
   "id": "8724798d-60a6-4b13-a889-fbce9d5fc210",
   "metadata": {},
   "outputs": [],
   "source": [
    "#중위 순회\n",
    "def inorder(n):\n",
    "    if n is not None:\n",
    "        inorder(n.left)\n",
    "        print(n.data,end=' ')\n",
    "        inorder(n.right)"
   ]
  },
  {
   "cell_type": "code",
   "execution_count": 5,
   "id": "4f92ed72-ef57-423f-b581-52c0c7c50652",
   "metadata": {},
   "outputs": [],
   "source": [
    "#후위 순회 왼 -> 오 -> 노드\n",
    "def postorder(n):\n",
    "    if n is not None:\n",
    "        postorder(n.left)\n",
    "        postorder(n.right)\n",
    "        print(n.data,end=' ')\n",
    "        "
   ]
  },
  {
   "cell_type": "code",
   "execution_count": 6,
   "id": "deb45349-a896-4342-bfb8-37dd887940f6",
   "metadata": {},
   "outputs": [],
   "source": [
    "d = TNode(\"D\",None,None)\n",
    "e = TNode(\"E\",None,None)\n",
    "b = TNode('B',d,e)\n",
    "f = TNode(\"F\",None,None)\n",
    "c = TNode(\"C\",f,None)\n",
    "root = TNode('A',b,c)"
   ]
  },
  {
   "cell_type": "code",
   "execution_count": 14,
   "id": "ea418ca7-cd56-4963-8bbe-af4f0ebadcaf",
   "metadata": {},
   "outputs": [
    {
     "ename": "SyntaxError",
     "evalue": "invalid syntax (3365197694.py, line 1)",
     "output_type": "error",
     "traceback": [
      "\u001b[0;36m  Input \u001b[0;32mIn [14]\u001b[0;36m\u001b[0m\n\u001b[0;31m    preorder(root)'\\n'\u001b[0m\n\u001b[0m                  ^\u001b[0m\n\u001b[0;31mSyntaxError\u001b[0m\u001b[0;31m:\u001b[0m invalid syntax\n"
     ]
    }
   ],
   "source": [
    "preorder(root)\n",
    "inorder(root)\n",
    "postorder(root)"
   ]
  },
  {
   "cell_type": "code",
   "execution_count": 7,
   "id": "70056ebd-7fc8-466f-8fdf-3d9c9a5a618a",
   "metadata": {},
   "outputs": [
    {
     "name": "stdout",
     "output_type": "stream",
     "text": [
      "D B E A F C "
     ]
    }
   ],
   "source": [
    "inorder(root)"
   ]
  },
  {
   "cell_type": "code",
   "execution_count": 11,
   "id": "ebb8b437-6dfd-45a5-be64-79040485eff0",
   "metadata": {},
   "outputs": [],
   "source": [
    "def levelorder(root):\n",
    "    queue = CircularQueue() #큐 API 사용\n",
    "    queue.enqueue(root)\n",
    "    while not queue.isEmpty():\n",
    "        n = queue.dequeue()\n",
    "        if n is not None:\n",
    "            print(n.data,end=' ') #루트노드 출력\n",
    "            queue.enqueue(n.left) #왼쪽 자식 삽입\n",
    "            queue.enqueue(n.right) #오른쪽 자식 삽입"
   ]
  },
  {
   "cell_type": "code",
   "execution_count": 13,
   "id": "39077b4f-7925-4404-ba9a-194170a2c96b",
   "metadata": {},
   "outputs": [],
   "source": [
    "def count_node(n):\n",
    "    if n is None:\n",
    "        return 0\n",
    "    else:\n",
    "        return 1 + count_node(n.left)+count_node(n.right)\n",
    "    #루트노드 + 왼쪽(재귀) + 오른쪽(재귀)"
   ]
  },
  {
   "cell_type": "code",
   "execution_count": 14,
   "id": "c60ffcd5-c4fc-4793-9893-3b231ebf095c",
   "metadata": {},
   "outputs": [
    {
     "data": {
      "text/plain": [
       "6"
      ]
     },
     "execution_count": 14,
     "metadata": {},
     "output_type": "execute_result"
    }
   ],
   "source": [
    "count_node(root)"
   ]
  },
  {
   "cell_type": "code",
   "execution_count": 15,
   "id": "12de6d1a-2c3d-471a-be54-003dc3ce405f",
   "metadata": {},
   "outputs": [],
   "source": [
    "def count_leaf(n):\n",
    "    if n is None:\n",
    "        return 0\n",
    "    elif n.left is None and n.right is None:\n",
    "        return 1\n",
    "    else:\n",
    "        return count_leaf(n.left) + count_leaf(n.right)"
   ]
  },
  {
   "cell_type": "code",
   "execution_count": 16,
   "id": "9ad743f4-c88f-47d3-9e1c-b0c98ef192a3",
   "metadata": {},
   "outputs": [
    {
     "data": {
      "text/plain": [
       "3"
      ]
     },
     "execution_count": 16,
     "metadata": {},
     "output_type": "execute_result"
    }
   ],
   "source": [
    "count_leaf(root)"
   ]
  },
  {
   "cell_type": "code",
   "execution_count": 17,
   "id": "bb4ac195-03cf-4231-9eed-709a6af91b88",
   "metadata": {},
   "outputs": [],
   "source": [
    "def calc_height(n):\n",
    "    if n is None:\n",
    "        return 0\n",
    "    hLeft = calc_height(n.left)\n",
    "    hRight = calc_height(n.right)\n",
    "    if (hLeft > hRight):\n",
    "        return hLeft + 1\n",
    "    else:\n",
    "        return hRight + 1"
   ]
  },
  {
   "cell_type": "code",
   "execution_count": 18,
   "id": "0113b436-9fc2-4030-ba08-b0e108adcdc8",
   "metadata": {},
   "outputs": [
    {
     "data": {
      "text/plain": [
       "3"
      ]
     },
     "execution_count": 18,
     "metadata": {},
     "output_type": "execute_result"
    }
   ],
   "source": [
    "calc_height(root)"
   ]
  },
  {
   "cell_type": "code",
   "execution_count": 7,
   "id": "97c2704e-4efe-4133-a3ef-0a487aa4902f",
   "metadata": {},
   "outputs": [],
   "source": [
    "class MaxHeap:\n",
    "    def __init__(self):\n",
    "        self.heap = []\n",
    "        self.heap.append(0) #힙트리에서 루트노드 인덱싱은 1부터 시작\n",
    "    \n",
    "    def size(self): return len(self.heap) -1 # 인덱싱 0 제외\n",
    "    def isEmpty(self): return self.size()==0\n",
    "    def Parent(self,i): return self.heap[i//2]\n",
    "    def Left(self,i): return self.heap[i*2]\n",
    "    def Right(self,i): return self.heap[i*2+1]\n",
    "    def display(self,msg='힙트리:'):\n",
    "        print(msg,self.heap[1:])\n",
    "    #삽입\n",
    "    def insert(self,n):\n",
    "        self.heap.append(n) #리스트 맨 뒤에 먼저 삽입\n",
    "        i = self.size()\n",
    "        while (i != 1 and n>self.Parent(i)): #부모보다 크면 계속 돌아감\n",
    "            self.heap[i] = self.Parent(i) #부모 끌어내림\n",
    "            i = i//2\n",
    "        self.heap[i] = n\n",
    "    #삭제\n",
    "    def delete(self):\n",
    "            parent = 1\n",
    "            child = 2\n",
    "            if not self.isEmpty():\n",
    "                hroot = self.heap[1]\n",
    "                last = self.heap[self.size()]\n",
    "                while (child <= self.size()):\n",
    "                    if child < self.size() and self.Left(parent)<self.Right(parent):\n",
    "                        child += 1\n",
    "                    if last >= self.heap[child]: #자식보다 커서 더 안내려가도 됨\n",
    "                        break;\n",
    "                    self.heap[parent] = self.heap[child] #아니면 계속 내려감\n",
    "                    parent = child\n",
    "                    child *= 2;\n",
    "                \n",
    "                self.heap[parent] = last\n",
    "                self.heap.pop(-1)\n",
    "                return hroot\n",
    "                    \n",
    "                        \n",
    "            "
   ]
  },
  {
   "cell_type": "code",
   "execution_count": 8,
   "id": "8fe43dd7-67af-4450-8704-352ea7aaa6f3",
   "metadata": {},
   "outputs": [],
   "source": [
    "heap = MaxHeap()"
   ]
  },
  {
   "cell_type": "code",
   "execution_count": 9,
   "id": "68f8f27e-7abc-4a7b-8291-741091ac4be3",
   "metadata": {},
   "outputs": [
    {
     "name": "stdout",
     "output_type": "stream",
     "text": [
      "[삽입연산]:[2, 5, 4, 8, 9, 3, 7, 3]\n"
     ]
    }
   ],
   "source": [
    "data = [2,5,4,8,9,3,7,3]\n",
    "print('[삽입연산]:'+str(data))\n",
    "for elem in data:\n",
    "    heap.insert(elem)"
   ]
  },
  {
   "cell_type": "code",
   "execution_count": null,
   "id": "9b7e899f-f49b-4303-8b80-9a455435a803",
   "metadata": {},
   "outputs": [],
   "source": []
  }
 ],
 "metadata": {
  "kernelspec": {
   "display_name": "Python 3 (ipykernel)",
   "language": "python",
   "name": "python3"
  },
  "language_info": {
   "codemirror_mode": {
    "name": "ipython",
    "version": 3
   },
   "file_extension": ".py",
   "mimetype": "text/x-python",
   "name": "python",
   "nbconvert_exporter": "python",
   "pygments_lexer": "ipython3",
   "version": "3.9.12"
  }
 },
 "nbformat": 4,
 "nbformat_minor": 5
}
