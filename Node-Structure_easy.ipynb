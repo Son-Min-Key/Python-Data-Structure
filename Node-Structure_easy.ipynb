{
 "cells": [
  {
   "cell_type": "code",
   "execution_count": 1,
   "id": "7697b631-48bd-4664-ac6e-dea11895c6b9",
   "metadata": {},
   "outputs": [],
   "source": [
    "class Node:\n",
    "    def __init__(self,elem,link=None):\n",
    "        self.data = elem\n",
    "        self.link = link\n",
    "    "
   ]
  },
  {
   "cell_type": "code",
   "execution_count": 17,
   "id": "27c484d2-d973-45d7-94c9-f6d217a2d480",
   "metadata": {},
   "outputs": [],
   "source": [
    "#stack 연결된 단일 구조\n",
    "\n",
    "class LinkedStack:\n",
    "    def __init__(self):\n",
    "        self.top = None\n",
    "    \n",
    "    def isEmpty(self): return self.top==None\n",
    "    def clear(self): self.top = None\n",
    "    \n",
    "    def push(self,item):\n",
    "        n = Node(item,self.top)\n",
    "        self.top = n\n",
    "    \n",
    "    def pop(self):\n",
    "        if not self.isEmpty():\n",
    "            n = self.top\n",
    "            self.top = n.link\n",
    "            return n.data\n",
    "    \n",
    "    def peek(self):\n",
    "        if not self.isEmpty():\n",
    "            return self.top.data\n",
    "    \n",
    "    def size(self):\n",
    "        node = self.top #시작노드\n",
    "        count = 0\n",
    "        while not node == None:\n",
    "            node = node.link\n",
    "            count += 1\n",
    "        return count\n",
    "    \n",
    "    def display(self,msg='Linkedstack'):\n",
    "        print(msg,end='')\n",
    "        node = self.top\n",
    "        while not node == None:\n",
    "            print(node.data, end=' ')\n",
    "            node = node.link\n",
    "        print()\n",
    "    \n",
    "    def __str__(self):\n",
    "        rst = self.display()\n",
    "        return str(rst)"
   ]
  },
  {
   "cell_type": "code",
   "execution_count": 18,
   "id": "7bdaa099-994c-4610-9c6b-a54e4306108b",
   "metadata": {},
   "outputs": [],
   "source": [
    "odd = LinkedStack()\n",
    "even = LinkedStack()"
   ]
  },
  {
   "cell_type": "code",
   "execution_count": 25,
   "id": "bb3b8762-e0f3-4e1a-82e3-1210f66e4651",
   "metadata": {},
   "outputs": [
    {
     "name": "stdout",
     "output_type": "stream",
     "text": [
      "Linkedstack8 6 4 2 0 \n",
      "Linkedstack4 2 0 \n"
     ]
    }
   ],
   "source": [
    "#Test\n",
    "even.clear()\n",
    "for i in range(10):\n",
    "    if i % 2 == 0: even.push(i)\n",
    "    else: odd.push(i)\n",
    "\n",
    "even.display()    \n",
    "for i in range(2):\n",
    "    even.pop()\n",
    "    odd.pop()\n",
    "\n",
    "even.display()"
   ]
  },
  {
   "cell_type": "code",
   "execution_count": 27,
   "id": "f41d704b-dd90-4ef3-ac3b-872a8c1dde0c",
   "metadata": {},
   "outputs": [],
   "source": [
    "class LinkedList:\n",
    "    def __init__(self):\n",
    "        self.head = None\n",
    "    \n",
    "    def isEmpty(self): return self.head==None\n",
    "    def clear(self): self.head = None\n",
    "    def size(self):\n",
    "        node = self.head\n",
    "        count = 0\n",
    "        while not node == None:\n",
    "            node = node.link\n",
    "            count +=1\n",
    "        return count\n",
    "    def display(self,msg='LinkedList'):\n",
    "        print(msg,end='')\n",
    "        node = self.head\n",
    "        while not node ==None:\n",
    "            print(node.data,end=' ')\n",
    "            node = node.link\n",
    "        print()\n",
    "    \n",
    "    def getNode(self,pos):\n",
    "        if pos<0: return None\n",
    "        node = self.head\n",
    "        while pos > 0 and node != None:\n",
    "            node = node.link\n",
    "            pos -= 1\n",
    "        return node\n",
    "    \n",
    "    def getEntry(self,pos):\n",
    "        node = self.getNode(pos)\n",
    "        if node == None: return None\n",
    "        else:\n",
    "            return node.data\n",
    "    \n",
    "    def replace(self,pos,elem):\n",
    "        node = self.getNode(pos)\n",
    "        if node != None: node.data = elem\n",
    "    \n",
    "    def find(self,data):\n",
    "        node = self.head\n",
    "        while node is not None:\n",
    "            if node.data == data: return node\n",
    "            node = node.link\n",
    "        return None\n",
    "    \n",
    "    def insert(self,pos,elem):\n",
    "        before = self.getNode(pos-1)\n",
    "        if before == None:\n",
    "            self.head = Node(elem,self.head)\n",
    "        else:\n",
    "            node = Node(elem,before.link)\n",
    "            before.link = Node\n",
    "    \n",
    "    def delete(self,pos):\n",
    "        before = self.getNode(pos-1)\n",
    "        if before == None:\n",
    "            if self.head is not None:\n",
    "                self.head = self.head.link\n",
    "        elif before.link != None:\n",
    "            before.link = before.link.link\n",
    "    "
   ]
  },
  {
   "cell_type": "code",
   "execution_count": 28,
   "id": "8eaa05cd-2e4f-4c6d-b59b-ebc5bd5ee667",
   "metadata": {},
   "outputs": [],
   "source": [
    "a = LinkedList()\n"
   ]
  },
  {
   "cell_type": "code",
   "execution_count": 29,
   "id": "cb5caa87-3b07-4192-b0f9-ff6de2639d31",
   "metadata": {},
   "outputs": [
    {
     "name": "stdout",
     "output_type": "stream",
     "text": [
      "LinkedList\n"
     ]
    }
   ],
   "source": [
    "a.display()"
   ]
  },
  {
   "cell_type": "code",
   "execution_count": 30,
   "id": "ca917285-7344-4dfa-bcd0-5ca89b2f27ef",
   "metadata": {},
   "outputs": [],
   "source": [
    "class CircularLinkedQueue:\n",
    "    def __init__(self):\n",
    "        self.tail = None\n",
    "    \n",
    "    def isEmpty(self): return self.tail==None\n",
    "    def clear(self): self.tail = None\n",
    "    def peek(self):\n",
    "        if not self.isEmpty():\n",
    "            return self.tail.link.data\n",
    "    \n",
    "    def enqueue(self,item):\n",
    "        node = Node(item,None)\n",
    "        if self.isEmpty():\n",
    "            node.link = node #자기 자신\n",
    "            self.tail = node\n",
    "        else:\n",
    "            node.link = self.tail.link \n",
    "            self.tail.link = node\n",
    "            self.tail = node\n",
    "    \n",
    "    def dequeue(self):\n",
    "        if not self.isEmpty():\n",
    "            data = self.tail.link.data\n",
    "            if self.tail.link == self.tail:\n",
    "                self.tail = None\n",
    "            else:\n",
    "                self.tail.link = self.tail.link.link\n",
    "            return data\n",
    "        \n",
    "    def size(self):\n",
    "        if self.isEmpty():\n",
    "            return 0\n",
    "        else:\n",
    "            count = 1\n",
    "            node = self.tail.link\n",
    "            while not node == self.tail:\n",
    "                node = node.link\n",
    "                count += 1\n",
    "            return count\n",
    "    \n",
    "    def display(self,msg = 'CircularLinkedQueue:'):\n",
    "        print(msg, end='')\n",
    "        if not self.isEmpty():\n",
    "            node = self.tail.link\n",
    "            while not node == self.tail:\n",
    "                print(node.data, end=' ')\n",
    "                node = node.link\n",
    "            print(node.data,end=' ')\n",
    "        print()\n",
    "        "
   ]
  },
  {
   "cell_type": "code",
   "execution_count": 31,
   "id": "9d3a46b0-6b7d-450e-bab8-92caf07e1661",
   "metadata": {},
   "outputs": [],
   "source": [
    "q = CircularLinkedQueue()"
   ]
  },
  {
   "cell_type": "code",
   "execution_count": 32,
   "id": "1f8f7253-3a2d-4df8-b851-86ddb389cf58",
   "metadata": {},
   "outputs": [
    {
     "name": "stdout",
     "output_type": "stream",
     "text": [
      "CircularLinkedQueue:0 1 2 3 4 5 6 7 \n"
     ]
    }
   ],
   "source": [
    "for i in range(8):\n",
    "    q.enqueue(i)\n",
    "q.display()"
   ]
  },
  {
   "cell_type": "code",
   "execution_count": 33,
   "id": "43e8db35-f602-418a-8376-d6c1f7f0ee30",
   "metadata": {},
   "outputs": [
    {
     "name": "stdout",
     "output_type": "stream",
     "text": [
      "CircularLinkedQueue:5 6 7 \n"
     ]
    }
   ],
   "source": [
    "for i in range(5):\n",
    "    q.dequeue()\n",
    "q.display()"
   ]
  },
  {
   "cell_type": "code",
   "execution_count": 41,
   "id": "cd9dca62-f5fa-4bb7-bb95-331ddfa248ec",
   "metadata": {},
   "outputs": [],
   "source": [
    "#이중 연결리스트 덱\n",
    "class DNode:\n",
    "    def __init__(self,elem,p=None,n=None):\n",
    "        self.data = elem\n",
    "        self.prev = p\n",
    "        self.next = n\n",
    "\n",
    "class DoublyLinkedDeque:\n",
    "    def __init__(self):\n",
    "        self.front = None\n",
    "        self.rear = None\n",
    "    \n",
    "    def isEmpty(self):\n",
    "        return self.front == None\n",
    "    def clear(self):\n",
    "        self.front = self.rear = None\n",
    "    def size(self):\n",
    "        node = self.front\n",
    "        count = 0\n",
    "        while not node == None:\n",
    "            node = node.next\n",
    "            count += 1\n",
    "        return count\n",
    "    def display(self,msg='DoubleLinkedDeque'):\n",
    "        print(msg,end='')\n",
    "        node = self.front\n",
    "        while not node == None:\n",
    "            print(node.data, end=' ')\n",
    "            node = node.next\n",
    "        print()\n",
    "    \n",
    "    def addFront(self,item):\n",
    "        node = DNode(item,None,self.front)\n",
    "        if (self.isEmpty()):\n",
    "            self.front = self.rear = node\n",
    "        else:\n",
    "            self.front.prev = node\n",
    "            self.front = node\n",
    "    \n",
    "    def addRear(self,item):\n",
    "        node = DNode(item,self.rear,None)\n",
    "        if (self.isEmpty()):\n",
    "            self.front = self.rear = node\n",
    "        else:\n",
    "            self.rear.next = node\n",
    "            self.rear = node\n",
    "    \n",
    "    def deleteFront(self):\n",
    "        if not self.isEmpty():\n",
    "            data = self.front.data\n",
    "            self.front = self.front.next\n",
    "            if self.front == None:\n",
    "                self.rear = None\n",
    "            else:\n",
    "                self.front.prev = None\n",
    "            return data\n",
    "        \n",
    "    def deleteRear(self):\n",
    "        if not self.isEmpty():\n",
    "            data = self.rear.data\n",
    "            self.rear = self.rear.prev\n",
    "            if self.rear == None:\n",
    "                self.front = None\n",
    "            else:\n",
    "                self.rear.next = None\n",
    "            return data"
   ]
  },
  {
   "cell_type": "code",
   "execution_count": 42,
   "id": "83987e45-6ffb-4fbb-b8c9-dd6ec2d2db96",
   "metadata": {},
   "outputs": [],
   "source": [
    "dq = DoublyLinkedDeque()"
   ]
  },
  {
   "cell_type": "code",
   "execution_count": 43,
   "id": "9ecf6702-ccba-4235-b4d4-4ed1472506c4",
   "metadata": {},
   "outputs": [
    {
     "name": "stdout",
     "output_type": "stream",
     "text": [
      "DoubleLinkedDeque7 5 3 1 0 2 4 6 8 \n"
     ]
    }
   ],
   "source": [
    "for i in range(9):\n",
    "    if i%2==0: dq.addRear(i)\n",
    "    else: dq.addFront(i)\n",
    "dq.display()"
   ]
  },
  {
   "cell_type": "code",
   "execution_count": null,
   "id": "65166849-666d-409a-887d-606fa1f0df68",
   "metadata": {},
   "outputs": [],
   "source": []
  }
 ],
 "metadata": {
  "kernelspec": {
   "display_name": "Python 3 (ipykernel)",
   "language": "python",
   "name": "python3"
  },
  "language_info": {
   "codemirror_mode": {
    "name": "ipython",
    "version": 3
   },
   "file_extension": ".py",
   "mimetype": "text/x-python",
   "name": "python",
   "nbconvert_exporter": "python",
   "pygments_lexer": "ipython3",
   "version": "3.9.12"
  }
 },
 "nbformat": 4,
 "nbformat_minor": 5
}
