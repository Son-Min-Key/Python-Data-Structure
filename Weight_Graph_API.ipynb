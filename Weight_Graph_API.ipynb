{
 "cells": [
  {
   "cell_type": "code",
   "execution_count": 1,
   "id": "a68c63db-9cb7-40c6-af6a-fad567d5a665",
   "metadata": {},
   "outputs": [],
   "source": [
    "vertex = list('ABCDEFG')\n",
    "weight = [[None,29,None,None,None,10,None],\n",
    "          [29,None,16,None,None,None,15],\n",
    "         [None,16,None,12,None,None,None],\n",
    "          [None,None,12,None,22,None,18],\n",
    "          [None,None,None,22,None,27,25],\n",
    "          [10,None,None,None,27,None,None],\n",
    "          [None,15,None,18,25,None,None]]\n",
    "#None 말고 '무한대'표기도 사용"
   ]
  },
  {
   "cell_type": "code",
   "execution_count": 4,
   "id": "b56ad765-d64e-445a-a71a-a3e21835917c",
   "metadata": {},
   "outputs": [],
   "source": [
    "def weightSum(vlist,W):\n",
    "    sum = 0\n",
    "    for i in range(len(vlist)):\n",
    "        for j in range(i+1,len(vlist)): #i+1은 자기 자신은 빼고\n",
    "            if W[i][j] != None:\n",
    "                sum += W[i][j]\n",
    "    return sum"
   ]
  },
  {
   "cell_type": "code",
   "execution_count": 5,
   "id": "e52de314-7c96-4512-8f5d-955088353d85",
   "metadata": {},
   "outputs": [
    {
     "name": "stdout",
     "output_type": "stream",
     "text": [
      "174\n"
     ]
    }
   ],
   "source": [
    "print(weightSum(vertex,weight))"
   ]
  },
  {
   "cell_type": "code",
   "execution_count": 8,
   "id": "2fbf0561-d0e5-4968-a872-c987c71fbcc9",
   "metadata": {},
   "outputs": [],
   "source": [
    "def printAllEdges(vlist,W):\n",
    "    for i in range(len(vlist)):\n",
    "        for j in range(i+1,len(W[i])):\n",
    "            if W[i][j] != None and W[i][j] != 0:\n",
    "                print(f'({vlist[i]},{vlist[j]},{W[i][j]})',end='')\n",
    "    print()"
   ]
  },
  {
   "cell_type": "code",
   "execution_count": 9,
   "id": "e3921718-f0e0-4a9e-a60e-3e95f8cd4346",
   "metadata": {},
   "outputs": [
    {
     "name": "stdout",
     "output_type": "stream",
     "text": [
      "(A,B,29)(A,F,10)(B,C,16)(B,G,15)(C,D,12)(D,E,22)(D,G,18)(E,F,27)(E,G,25)\n"
     ]
    }
   ],
   "source": [
    "printAllEdges(vertex,weight)"
   ]
  },
  {
   "cell_type": "code",
   "execution_count": 10,
   "id": "0e7816e0-a992-42f8-bcbc-35f79ba0257c",
   "metadata": {},
   "outputs": [],
   "source": [
    "parent = []\n",
    "set_size = 0"
   ]
  },
  {
   "cell_type": "code",
   "execution_count": 18,
   "id": "816ab5b9-3ac8-48af-be5c-5b91ba4f9955",
   "metadata": {},
   "outputs": [],
   "source": [
    "#union-find 구현(집합에서 서로소)\n",
    "#사이클 검사 알고리즘(트리로 구현)\n",
    "\n",
    "def init_set(nSets): #집합 부모 초기화 함수\n",
    "    global set_size, parent\n",
    "    set_size = nSets;\n",
    "    for i in range(nSets):\n",
    "        parent.append(-1)"
   ]
  },
  {
   "cell_type": "code",
   "execution_count": 19,
   "id": "896f43bd-4ed3-45d3-9e0e-9b50cdc53c46",
   "metadata": {},
   "outputs": [],
   "source": [
    "def find(id):\n",
    "    while (parent[id] >= 0):\n",
    "        id = parent[id]\n",
    "    return id;"
   ]
  },
  {
   "cell_type": "code",
   "execution_count": 20,
   "id": "6466efb6-0d3c-473e-8f34-2afaefdac537",
   "metadata": {},
   "outputs": [],
   "source": [
    "def union(s1,s2): #s2를 s1에 병합\n",
    "    global set_size\n",
    "    parent[s1] = s2\n",
    "    set_size = set_size - 1"
   ]
  },
  {
   "cell_type": "code",
   "execution_count": 23,
   "id": "aea79c59-f0d6-4333-a481-8500033681c7",
   "metadata": {},
   "outputs": [],
   "source": [
    "def MSTKruskal(vertex,adj):\n",
    "    vsize = len(vertex)\n",
    "    init_set(vsize) #정점 집합 초기화\n",
    "    eList = []\n",
    "    \n",
    "    # 모든 간선 리스트 eList에 저장\n",
    "    for i in range(vsize-1):\n",
    "        for j in range(i+1,vsize):\n",
    "            if adj[i][j] != None:\n",
    "                eList.append((i,j,adj[i][j]))\n",
    "    # 간선 리스트 가중치의 내림차순으로 적용(람다 함수 사용)\n",
    "    eList.sort(key = lambda e : e[2], reverse=True)\n",
    "    \n",
    "    edgeAccepted = 0\n",
    "    while (edgeAccepted < vsize -1):\n",
    "        e = eList.pop(-1) #가중치 가장 낮은 간선\n",
    "        uset = find(e[0])\n",
    "        vset = find(e[1])\n",
    "        \n",
    "        if uset != vset :\n",
    "            print('간선추가 : (%s,%s,%d)'%(vertex[e[0]], vertex[e[1]],e[2]))\n",
    "            union(uset,vset)\n",
    "            edgeAccepted += 1"
   ]
  },
  {
   "cell_type": "code",
   "execution_count": 24,
   "id": "3cc44701-e0d1-4e18-b9b1-189f675e703a",
   "metadata": {},
   "outputs": [
    {
     "name": "stdout",
     "output_type": "stream",
     "text": [
      "간선추가 : (A,F,10)\n",
      "간선추가 : (C,D,12)\n",
      "간선추가 : (B,G,15)\n",
      "간선추가 : (B,C,16)\n",
      "간선추가 : (D,E,22)\n",
      "간선추가 : (E,F,27)\n"
     ]
    }
   ],
   "source": [
    "MSTKruskal(vertex,weight)"
   ]
  },
  {
   "cell_type": "code",
   "execution_count": 27,
   "id": "272d3764-4b5c-440f-b2ee-aafa5eb37ec6",
   "metadata": {},
   "outputs": [],
   "source": [
    "#Prim MST 알고리즘\n",
    "#현재 인접한 정점 중 가중치가 최저 간선으로\n",
    "\n",
    "def MSTPrim(vertex,adj):\n",
    "    vsize = len(vertex)\n",
    "    dist = [None] * vsize\n",
    "    selected = [False] * vsize\n",
    "    dist[0] = 0\n",
    "    \n",
    "    for i in range(vsize):\n",
    "        u = getMinVertex(dist,selected)\n",
    "        selected[u] = True\n",
    "        print(vertex[u],end=' ')\n",
    "        for v in range(vsize):\n",
    "            if (adj[u][v] != None):\n",
    "                if selected[v]==False and adj[u][v]<dist[v]:\n",
    "                    dist[v] = adj[u][v]\n",
    "        "
   ]
  },
  {
   "cell_type": "code",
   "execution_count": 29,
   "id": "6af8549c-f1f2-404a-8d25-584744a87531",
   "metadata": {},
   "outputs": [],
   "source": [
    "#Dijkstra 최단 경로 알고리즘\n",
    "#두 정점 사이 간선들의 가중치 합이 최소가 되는 경로 탐색\n",
    "INF = 9999\n",
    "def choose_vertex(dist, found):\n",
    "    min = INF\n",
    "    minpos = -1\n",
    "    for i in range(len(dist)):\n",
    "        if dist[i] < min and found[i] == False:\n",
    "            min = dist[i]\n",
    "            minpos = i\n",
    "    return minpos\n",
    "\n",
    "def shortest_path_dijkstra(vtx,adj,start):\n",
    "    vsize = len(vtx)\n",
    "    dist = lsit(adj[start])\n",
    "    path = [start] * vsize\n",
    "    found = [False] * vsize\n",
    "    found[start] = True\n",
    "    dist[start] = 0\n",
    "    \n",
    "    for i in range(vsize):\n",
    "        print('Step%2d:'%(i+1),dist)\n",
    "        u = choose_vertex(dist,found)\n",
    "        found[u] = True\n",
    "        \n",
    "        for w in range(vsize):\n",
    "            if not found[w]:\n",
    "                if dist[u] + adj[u][w] < dist[w]:\n",
    "                    dist[w] = dist[u] + adj[u][w]\n",
    "                    path[w] = u\n",
    "    return path"
   ]
  },
  {
   "cell_type": "code",
   "execution_count": null,
   "id": "c4aa4a6c-09e8-4ca3-a97e-ce87b59d3c0d",
   "metadata": {},
   "outputs": [],
   "source": []
  }
 ],
 "metadata": {
  "kernelspec": {
   "display_name": "Python 3 (ipykernel)",
   "language": "python",
   "name": "python3"
  },
  "language_info": {
   "codemirror_mode": {
    "name": "ipython",
    "version": 3
   },
   "file_extension": ".py",
   "mimetype": "text/x-python",
   "name": "python",
   "nbconvert_exporter": "python",
   "pygments_lexer": "ipython3",
   "version": "3.9.12"
  }
 },
 "nbformat": 4,
 "nbformat_minor": 5
}
