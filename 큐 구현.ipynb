{
 "cells": [
  {
   "cell_type": "code",
   "execution_count": 19,
   "id": "7539c386-4e34-448a-82a2-6c3b8c2b0603",
   "metadata": {},
   "outputs": [],
   "source": [
    "MAX_QSIZE = 10\n",
    "\n",
    "class Circulque:\n",
    "    def __init__(self):\n",
    "        self.front = 0\n",
    "        self.rear = 0\n",
    "        self.items = [None]*MAX_QSIZE\n",
    "    \n",
    "    def isEmpty(self):\n",
    "        return self.front == self.rear\n",
    "    def isFull(self):\n",
    "        return self.front%MAX_QSIZE == (self.rear+1)%MAX_QSIZE\n",
    "    def clear(self):\n",
    "        self.front == self.rear\n",
    "    \n",
    "    def enqueue(self,item):\n",
    "        if not self.isFull():\n",
    "            self.rear = (self.rear+1)%MAX_QSIZE\n",
    "            self.items[self.rear] = item\n",
    "    \n",
    "    def dequeue(self):\n",
    "        if not self.isEmpty():\n",
    "            self.front = (self.front+1)%MAX_QSIZE\n",
    "            return self.items[self.front]\n",
    "    \n",
    "    def peek(self):\n",
    "        if not self.isEmpty():\n",
    "            return self.items[(self.front+1)%MAX_QSIZE]\n",
    "    \n",
    "    def size(self):\n",
    "        return (self.rear-self.front+MAX_QSIZE)%MAX_QSIZE\n",
    "    \n",
    "    def display(self):\n",
    "        out = []\n",
    "        if self.front<self.rear:\n",
    "            out = self.items[self.front+1:self.rear+1]\n",
    "        else:\n",
    "            out = self.items[self.front+1:MAX_QSIZE] + self.items[0:self.rear+1]\n",
    "        print(out)"
   ]
  },
  {
   "cell_type": "code",
   "execution_count": 7,
   "id": "d0521611-f562-469f-a59b-c20a7afbfca9",
   "metadata": {},
   "outputs": [
    {
     "name": "stdout",
     "output_type": "stream",
     "text": [
      "[0, 1, 2, 3, 4, 5, 6, 7]\n"
     ]
    }
   ],
   "source": [
    "q = Circulque()\n",
    "for i in range(8):\n",
    "    q.enqueue(i)\n",
    "q.display()"
   ]
  },
  {
   "cell_type": "code",
   "execution_count": 20,
   "id": "037664a9-8627-47cd-bcf4-0bc794baad79",
   "metadata": {},
   "outputs": [],
   "source": [
    "class Circuldeque(Circulque):\n",
    "    def __init__(self):\n",
    "        super().__init__()\n",
    "    \n",
    "    def addRear(self,item):\n",
    "        self.enqueue(item)\n",
    "    \n",
    "    def deleteFront(self):\n",
    "        return self.dequeue()\n",
    "    \n",
    "    def getFront(self):\n",
    "        return self.peek()\n",
    "    \n",
    "    def addFront(self,item):\n",
    "        if not self.isFull():\n",
    "            self.items[self.front] = item\n",
    "            self.front = self.front-1\n",
    "            if self.front<0: self.front = MAX_QSIZE-1\n",
    "    \n",
    "    def deleteRear(self):\n",
    "        if not self.isEmpty():\n",
    "            item = self.items[self.rear]\n",
    "            self.rear = self.rear -1\n",
    "            if self.rear <0: self.rear = MAX_QSIZE -1 \n",
    "            return item\n",
    "    \n",
    "    def getRear(self):\n",
    "        return self.items[self.rear]"
   ]
  },
  {
   "cell_type": "code",
   "execution_count": 9,
   "id": "55a3d21a-d94a-43b3-a8d1-8dc8f2bc1c19",
   "metadata": {},
   "outputs": [
    {
     "name": "stdout",
     "output_type": "stream",
     "text": [
      "[7, 5, 3, 1, 0, 2, 4, 6, 8]\n"
     ]
    }
   ],
   "source": [
    "dq = Circuldeque()\n",
    "\n",
    "for i in range(9):\n",
    "    if i%2==0: dq.addRear(i)\n",
    "    else: dq.addFront(i)\n",
    "dq.display()"
   ]
  },
  {
   "cell_type": "code",
   "execution_count": 10,
   "id": "b519829f-658f-482c-afb2-7426de7e32f7",
   "metadata": {},
   "outputs": [
    {
     "data": {
      "text/plain": [
       "5"
      ]
     },
     "execution_count": 10,
     "metadata": {},
     "output_type": "execute_result"
    }
   ],
   "source": [
    "dq.front = 7\n",
    "dq.rear = 2\n",
    "dq.size()"
   ]
  },
  {
   "cell_type": "code",
   "execution_count": 12,
   "id": "aba786a7-fdfc-4afe-843e-8165520afc74",
   "metadata": {},
   "outputs": [
    {
     "data": {
      "text/plain": [
       "7"
      ]
     },
     "execution_count": 12,
     "metadata": {},
     "output_type": "execute_result"
    }
   ],
   "source": [
    "(2-7+12)%12"
   ]
  },
  {
   "cell_type": "code",
   "execution_count": 16,
   "id": "7481ebba-9ad7-454c-b804-7ad965ada4ed",
   "metadata": {},
   "outputs": [
    {
     "name": "stdout",
     "output_type": "stream",
     "text": [
      "[6, 9]\n"
     ]
    }
   ],
   "source": [
    "values = Circulque()\n",
    "\n",
    "for i in range(10):\n",
    "    if i%3 == 0:\n",
    "        values.enqueue(i)\n",
    "    elif i%4 == 0:\n",
    "        values.dequeue()\n",
    "\n",
    "values.display()\n",
    "        \n",
    "        \n",
    "        "
   ]
  },
  {
   "cell_type": "code",
   "execution_count": 17,
   "id": "3d3ce411-2a55-4d29-a435-a266d02ac1dd",
   "metadata": {},
   "outputs": [
    {
     "data": {
      "text/plain": [
       "[7, 6]"
      ]
     },
     "execution_count": 17,
     "metadata": {},
     "output_type": "execute_result"
    }
   ],
   "source": []
  },
  {
   "cell_type": "code",
   "execution_count": 23,
   "id": "e4f134ff-b663-41f3-ab08-d4d3025517d8",
   "metadata": {},
   "outputs": [
    {
     "name": "stdout",
     "output_type": "stream",
     "text": [
      "[7, 6]\n"
     ]
    }
   ],
   "source": [
    "rst = Circuldeque()\n",
    "\n",
    "rst.addFront(4)\n",
    "rst.addRear(8)\n",
    "rst.addRear(9)\n",
    "rst.addFront(5)\n",
    "rst.getRear()\n",
    "rst.deleteFront()\n",
    "rst.deleteRear()\n",
    "rst.addRear(7)\n",
    "rst.getFront()\n",
    "rst.getRear()\n",
    "rst.addRear(6)\n",
    "rst.deleteFront()\n",
    "rst.deleteFront()\n",
    "\n",
    "rst.display()"
   ]
  },
  {
   "cell_type": "code",
   "execution_count": 48,
   "id": "7e283a47-720d-4ab6-8861-24e2433f8e0a",
   "metadata": {},
   "outputs": [
    {
     "name": "stdout",
     "output_type": "stream",
     "text": [
      "[1, 2, 3, 4, 5, 6, 7, 8]\n"
     ]
    }
   ],
   "source": [
    "D = Circuldeque()\n",
    "Q = Circulque()\n",
    "\n",
    "for i in range(1,9):\n",
    "    D.addRear(i)\n",
    "\n",
    "while D.isEmpty() == True:\n",
    "    item\n",
    "    \n",
    "    \n",
    "    \n",
    "\n",
    "\n",
    "\n"
   ]
  },
  {
   "cell_type": "code",
   "execution_count": null,
   "id": "d36d9e5e-6c78-476c-9e75-b050e4889296",
   "metadata": {},
   "outputs": [],
   "source": []
  }
 ],
 "metadata": {
  "kernelspec": {
   "display_name": "Python 3 (ipykernel)",
   "language": "python",
   "name": "python3"
  },
  "language_info": {
   "codemirror_mode": {
    "name": "ipython",
    "version": 3
   },
   "file_extension": ".py",
   "mimetype": "text/x-python",
   "name": "python",
   "nbconvert_exporter": "python",
   "pygments_lexer": "ipython3",
   "version": "3.9.12"
  }
 },
 "nbformat": 4,
 "nbformat_minor": 5
}
