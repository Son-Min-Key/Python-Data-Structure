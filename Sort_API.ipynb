{
 "cells": [
  {
   "cell_type": "code",
   "execution_count": 2,
   "id": "9f5c11ee-03e5-44e9-9a43-1a557f3a47c0",
   "metadata": {},
   "outputs": [],
   "source": [
    "def printStep(arr,val):\n",
    "    print(\" Step %2d=\" %val,end='')\n",
    "    print(arr)\n",
    "\n",
    "\n",
    "def selection_sort(A):\n",
    "    n = len(A)\n",
    "    for i in range(n-1): #n: 불필요한 연산\n",
    "        least = i\n",
    "        for j in range(i+1,n):\n",
    "            if A[j]<A[least]: #A[5]가 A[0]보다 작으면\n",
    "                least = j\n",
    "        A[i],A[least] = A[least], A[i]\n",
    "        printStep(A,i+1)\n",
    "        "
   ]
  },
  {
   "cell_type": "code",
   "execution_count": 3,
   "id": "2af951c4-bae1-4d91-b7d5-87037d147184",
   "metadata": {},
   "outputs": [
    {
     "name": "stdout",
     "output_type": "stream",
     "text": [
      " Step  1=[3, 4, 9, 6, 7, 8, 7, 5]\n",
      " Step  2=[3, 4, 9, 6, 7, 8, 7, 5]\n",
      " Step  3=[3, 4, 5, 6, 7, 8, 7, 9]\n",
      " Step  4=[3, 4, 5, 6, 7, 8, 7, 9]\n",
      " Step  5=[3, 4, 5, 6, 7, 8, 7, 9]\n",
      " Step  6=[3, 4, 5, 6, 7, 7, 8, 9]\n",
      " Step  7=[3, 4, 5, 6, 7, 7, 8, 9]\n"
     ]
    }
   ],
   "source": [
    "data = [7,4,9,6,3,8,7,5]\n",
    "selection_sort(data)"
   ]
  },
  {
   "cell_type": "code",
   "execution_count": 18,
   "id": "c110336f-701f-43d0-9b5c-b1005df28109",
   "metadata": {},
   "outputs": [],
   "source": [
    "def insertion_sort(A):\n",
    "    n = len(A)\n",
    "    for i in range(1,n): #바꿀 key값 저장\n",
    "        key = A[i]\n",
    "        j = i-1\n",
    "        while j>=0 and A[j] > key:\n",
    "            A[j+1] = A[j] #뒤로 한칸 씩 이동\n",
    "            j -= 1\n",
    "        A[j+1] = key #key 값 위치 지정\n",
    "        print(j)\n",
    "        printStep(A,i)"
   ]
  },
  {
   "cell_type": "code",
   "execution_count": 19,
   "id": "7a76c370-3277-4a55-ac57-d32ca34be088",
   "metadata": {},
   "outputs": [
    {
     "name": "stdout",
     "output_type": "stream",
     "text": [
      "-1\n",
      " Step  1=[3, 5, 8, 4, 9, 1, 6, 2, 7]\n",
      "1\n",
      " Step  2=[3, 5, 8, 4, 9, 1, 6, 2, 7]\n",
      "0\n",
      " Step  3=[3, 4, 5, 8, 9, 1, 6, 2, 7]\n",
      "3\n",
      " Step  4=[3, 4, 5, 8, 9, 1, 6, 2, 7]\n",
      "-1\n",
      " Step  5=[1, 3, 4, 5, 8, 9, 6, 2, 7]\n",
      "3\n",
      " Step  6=[1, 3, 4, 5, 6, 8, 9, 2, 7]\n",
      "0\n",
      " Step  7=[1, 2, 3, 4, 5, 6, 8, 9, 7]\n",
      "5\n",
      " Step  8=[1, 2, 3, 4, 5, 6, 7, 8, 9]\n"
     ]
    }
   ],
   "source": [
    "data = [5,3,8,4,9,1,6,2,7]\n",
    "insertion_sort(data)"
   ]
  },
  {
   "cell_type": "code",
   "execution_count": 20,
   "id": "e7564dd9-2c21-4fb1-a05c-d6243f107055",
   "metadata": {},
   "outputs": [],
   "source": [
    "def bubble_sort(A):\n",
    "    n = len(A)\n",
    "    for i in range(n-1,0,-1): #step 1하고 n-1 부터\n",
    "        bChanged = False\n",
    "        for j in range(i):\n",
    "            if (A[j]>A[j+1]):\n",
    "                A[j], A[j+1] = A[j+1], A[j]\n",
    "                bChanged = True\n",
    "        if not bChanged: break #그 전에 sort완료 되면 break\n",
    "        printStep(A,n-i)"
   ]
  },
  {
   "cell_type": "code",
   "execution_count": 21,
   "id": "fc4dcdb1-914d-4604-8162-8256c6d2b4b2",
   "metadata": {},
   "outputs": [
    {
     "name": "stdout",
     "output_type": "stream",
     "text": [
      " Step  1=[3, 5, 4, 8, 1, 6, 2, 7, 9]\n",
      " Step  2=[3, 4, 5, 1, 6, 2, 7, 8, 9]\n",
      " Step  3=[3, 4, 1, 5, 2, 6, 7, 8, 9]\n",
      " Step  4=[3, 1, 4, 2, 5, 6, 7, 8, 9]\n",
      " Step  5=[1, 3, 2, 4, 5, 6, 7, 8, 9]\n",
      " Step  6=[1, 2, 3, 4, 5, 6, 7, 8, 9]\n"
     ]
    }
   ],
   "source": [
    "data = [5,3,8,4,9,1,6,2,7]\n",
    "bubble_sort(data)"
   ]
  },
  {
   "cell_type": "code",
   "execution_count": 29,
   "id": "70aea969-f35f-411f-b2c6-52465a9d5674",
   "metadata": {},
   "outputs": [],
   "source": [
    "def sequential_search(A,key,low,high):\n",
    "    for i in range(low,high+1):\n",
    "        if A[i] == key:\n",
    "            return i\n",
    "    return None"
   ]
  },
  {
   "cell_type": "code",
   "execution_count": 30,
   "id": "37b3f2d5-5bec-46c9-9f1e-11f7a937babc",
   "metadata": {},
   "outputs": [
    {
     "data": {
      "text/plain": [
       "2"
      ]
     },
     "execution_count": 30,
     "metadata": {},
     "output_type": "execute_result"
    }
   ],
   "source": [
    "data = [5,3,8,4,9,1,6,2,7]\n",
    "sequential_search(data,8,0,len(data)-1)"
   ]
  },
  {
   "cell_type": "code",
   "execution_count": 31,
   "id": "5060b4e6-b830-432f-b908-fdb2465f40b9",
   "metadata": {},
   "outputs": [],
   "source": [
    "def binary_search(A,key,low,high):\n",
    "    if (low<=high):\n",
    "        middle = (low+high)//2\n",
    "        if key == A[middle]:\n",
    "            return middle\n",
    "        elif (key<A[middle]):\n",
    "            return binary_search(A,key,low,middle-1)\n",
    "        else:\n",
    "            return binary_search(A,key,middle+1,high)\n",
    "    return None"
   ]
  },
  {
   "cell_type": "code",
   "execution_count": 33,
   "id": "b9da6d0b-7262-43ba-9f41-057f7bac9dfe",
   "metadata": {},
   "outputs": [],
   "source": [
    "def Wbinary_search(A,key,low,high):\n",
    "    while (low<=high):\n",
    "        middle = (low+high)//2\n",
    "        if key == A[middle]:\n",
    "            return middle\n",
    "        elif (key>A[middle]):\n",
    "            low = middle+1\n",
    "        else:\n",
    "            high = middle -1\n",
    "    return None"
   ]
  },
  {
   "cell_type": "code",
   "execution_count": null,
   "id": "4283dad6-0885-495e-912a-711d685d50b5",
   "metadata": {},
   "outputs": [],
   "source": []
  }
 ],
 "metadata": {
  "kernelspec": {
   "display_name": "Python 3 (ipykernel)",
   "language": "python",
   "name": "python3"
  },
  "language_info": {
   "codemirror_mode": {
    "name": "ipython",
    "version": 3
   },
   "file_extension": ".py",
   "mimetype": "text/x-python",
   "name": "python",
   "nbconvert_exporter": "python",
   "pygments_lexer": "ipython3",
   "version": "3.9.12"
  }
 },
 "nbformat": 4,
 "nbformat_minor": 5
}
