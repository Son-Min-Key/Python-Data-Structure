{
 "cells": [
  {
   "cell_type": "code",
   "execution_count": 1,
   "id": "20133980-eab6-4815-98f5-7033132afe81",
   "metadata": {},
   "outputs": [],
   "source": [
    "class myStack:\n",
    "    def __init__(self):\n",
    "        self.top=[]\n",
    "    \n",
    "    def isEmpty(self):\n",
    "        return len(self.top)==0\n",
    "    \n",
    "    def size(self):\n",
    "        return len(self.top)\n",
    "    \n",
    "    def clear(self):\n",
    "        self.top=[]\n",
    "    \n",
    "    def push(self,item):\n",
    "        self.top.append(item)\n",
    "        \n",
    "    def pop(self):\n",
    "        if not self.isEmpty():\n",
    "            return self.top.pop(-1)\n",
    "        \n",
    "    def peek(self):\n",
    "        if not self.isEmpty():\n",
    "            return self.top[::-1]\n",
    "    \n",
    "    def __str__(self):\n",
    "        return str(self.top)"
   ]
  },
  {
   "cell_type": "code",
   "execution_count": 2,
   "id": "c5cea7e8-7b64-4c0f-af5a-e05fd5463cd5",
   "metadata": {},
   "outputs": [],
   "source": [
    "def precedence(op):\n",
    "    if op=='(' or op==')': return 0\n",
    "    if op=='+' or op=='-': return 0\n",
    "    if op=='*' or op=='*': return 0\n",
    "    else: return -1\n"
   ]
  },
  {
   "cell_type": "code",
   "execution_count": null,
   "id": "c6b645e5-58e0-4dc0-9aa2-9d3e3dbc0f3f",
   "metadata": {},
   "outputs": [],
   "source": [
    "def Infix2Postfix(expr):\n",
    "    s=myStack()\n",
    "    output = []\n",
    "    for term in expr:\n",
    "        if term in '(':\n",
    "            s.push('(')\n",
    "        elif term in ')':\n",
    "            while not s.isEmpty():\n",
    "                op = s.pop()\n",
    "                if op=='(': break;\n",
    "                else:\n",
    "                    output.append(op)\n",
    "        elif term in \"+-*/\":\n",
    "            while not s.isEmpty():\n",
    "                op = s.peek()\n",
    "                if precedence(term) <= precedence(op):\n",
    "                    output.append(op)\n",
    "                    s.pop()\n",
    "                else: break\n",
    "            s.push(term)\n",
    "        else:\n",
    "            output.append(term)\n",
    "    while not s.isEmpty():\n",
    "        output.append(s.pop())\n",
    "    \n",
    "    return output"
   ]
  },
  {
   "cell_type": "code",
   "execution_count": 1,
   "id": "655c0f9d-965f-48bb-a387-90b1ae6888a7",
   "metadata": {},
   "outputs": [
    {
     "data": {
      "text/plain": [
       "[['1', '1', '1', '1', '1', '1'],\n",
       " ['e', '0', '0', '0', '0', '1'],\n",
       " ['1', '0', '1', '0', '1', '1'],\n",
       " ['1', '1', '1', '0', '0', 'x'],\n",
       " ['1', '1', '1', '1', '1', '1']]"
      ]
     },
     "execution_count": 1,
     "metadata": {},
     "output_type": "execute_result"
    }
   ],
   "source": [
    "maze = [list('111111'),\n",
    "        list('e00001'),\n",
    "        list('101011'),\n",
    "        list('11100x'),\n",
    "        list('111111')]\n",
    "maze"
   ]
  },
  {
   "cell_type": "code",
   "execution_count": 17,
   "id": "0dd32d23-38d0-4094-9a84-cda89944af2d",
   "metadata": {},
   "outputs": [],
   "source": [
    "MAZE_SIZE = 6\n",
    "\n",
    "\n",
    "def isValidPos(x,y):\n",
    "    if x<0 or y<0 or x >= MAZE_SIZE or y>=MAZE_SIZE:\n",
    "        return False\n",
    "    else:\n",
    "        return maze[y][x] == '0' or maze[y][x] == 'x'\n",
    "\n",
    "def DFS():\n",
    "    stack = myStack()\n",
    "    stack.push((0,1))\n",
    "    print('DFS:')\n",
    "    \n",
    "    while not stack.isEmpty():\n",
    "        here = stack.pop()\n",
    "        print(here,end='->')\n",
    "        (x,y) = here\n",
    "        if (maze[y][x] == 'x'):\n",
    "            return True\n",
    "        else:\n",
    "            maze[y][x] = '.'\n",
    "            \n",
    "            if isValidPos(x,y-1): stack.push((x,y-1))\n",
    "            if isValidPos(x,y+1): stack.push((x,y+1))\n",
    "            if isValidPos(x-1,y): stack.push((x-1,y))\n",
    "            if isValidPos(x+1,y): stack.push((x+1,y))\n",
    "        print('현재스택:', stack)\n",
    "    return False\n",
    "        "
   ]
  },
  {
   "cell_type": "code",
   "execution_count": 18,
   "id": "8878ea04-ff16-43f5-aa6f-8ff8c049fd2f",
   "metadata": {},
   "outputs": [
    {
     "name": "stdout",
     "output_type": "stream",
     "text": [
      "DFS:\n",
      "(0, 1)->현재스택: [(1, 1)]\n",
      "(1, 1)->현재스택: [(1, 2), (2, 1)]\n",
      "(2, 1)->현재스택: [(1, 2), (3, 1)]\n",
      "(3, 1)->현재스택: [(1, 2), (3, 2), (4, 1)]\n",
      "(4, 1)->현재스택: [(1, 2), (3, 2)]\n",
      "(3, 2)->현재스택: [(1, 2), (3, 3)]\n",
      "(3, 3)->현재스택: [(1, 2), (4, 3)]\n",
      "(4, 3)->현재스택: [(1, 2), (5, 3)]\n",
      "(5, 3)->"
     ]
    }
   ],
   "source": [
    "result = DFS()\n"
   ]
  },
  {
   "cell_type": "code",
   "execution_count": 19,
   "id": "b0aa9017-1ff7-4cde-8d63-8fab8875214d",
   "metadata": {},
   "outputs": [
    {
     "data": {
      "text/plain": [
       "0"
      ]
     },
     "execution_count": 19,
     "metadata": {},
     "output_type": "execute_result"
    }
   ],
   "source": [
    "4096%2"
   ]
  },
  {
   "cell_type": "code",
   "execution_count": 21,
   "id": "9732f8b9-e5e6-48f6-a6c0-fceda76abe69",
   "metadata": {},
   "outputs": [
    {
     "name": "stdout",
     "output_type": "stream",
     "text": [
      "[0, 9, 12, 18]\n"
     ]
    }
   ],
   "source": [
    "values = myStack()\n",
    "for i in range(20):\n",
    "    if i%3==0:\n",
    "        values.push(i)\n",
    "    elif i%4==0:\n",
    "        values.pop()\n",
    "print(values)"
   ]
  },
  {
   "cell_type": "code",
   "execution_count": 22,
   "id": "e749c621-fa05-446c-9b1b-2ef6c8e85ff0",
   "metadata": {},
   "outputs": [
    {
     "data": {
      "text/plain": [
       "0"
      ]
     },
     "execution_count": 22,
     "metadata": {},
     "output_type": "execute_result"
    }
   ],
   "source": [
    "0%3"
   ]
  },
  {
   "cell_type": "code",
   "execution_count": 2,
   "id": "1ada8eed-1d00-46cd-b1ff-3660f7cd0710",
   "metadata": {},
   "outputs": [],
   "source": [
    "rst = myStack()"
   ]
  },
  {
   "cell_type": "code",
   "execution_count": 12,
   "id": "46e140f9-66f4-475d-97ab-52e004e4fcd6",
   "metadata": {},
   "outputs": [
    {
     "name": "stdout",
     "output_type": "stream",
     "text": [
      "[0, 1, 2, 3, 4, 5, 6, 7, 8, 9]\n"
     ]
    }
   ],
   "source": [
    "for i in range(10):\n",
    "    rst.push(i)\n",
    "print(rst)"
   ]
  },
  {
   "cell_type": "code",
   "execution_count": 13,
   "id": "56fad103-f936-4e58-a50c-783c79bd79ab",
   "metadata": {},
   "outputs": [
    {
     "name": "stdout",
     "output_type": "stream",
     "text": [
      "9 8 7 6 5 4 3 2 1 0 "
     ]
    }
   ],
   "source": [
    "while True:\n",
    "    a = rst.pop()\n",
    "    print(a,end=' ')\n",
    "    if rst.size() == 0:\n",
    "        break\n",
    "\n",
    "    "
   ]
  },
  {
   "cell_type": "code",
   "execution_count": null,
   "id": "e03a88e3-b0b1-4ff3-a1b7-015eb6985b0c",
   "metadata": {},
   "outputs": [],
   "source": []
  }
 ],
 "metadata": {
  "kernelspec": {
   "display_name": "Python 3 (ipykernel)",
   "language": "python",
   "name": "python3"
  },
  "language_info": {
   "codemirror_mode": {
    "name": "ipython",
    "version": 3
   },
   "file_extension": ".py",
   "mimetype": "text/x-python",
   "name": "python",
   "nbconvert_exporter": "python",
   "pygments_lexer": "ipython3",
   "version": "3.9.12"
  }
 },
 "nbformat": 4,
 "nbformat_minor": 5
}
